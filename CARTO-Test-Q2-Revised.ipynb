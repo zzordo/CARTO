{
 "cells": [
  {
   "cell_type": "code",
   "execution_count": 3,
   "id": "b78a2c8e",
   "metadata": {
    "scrolled": true
   },
   "outputs": [
    {
     "name": "stdout",
     "output_type": "stream",
     "text": [
      "                                            the_geom  SchoolDist  \\\n",
      "0  MULTIPOLYGON (((-73.97906084845815 40.70594602...          13   \n",
      "1  MULTIPOLYGON (((-73.91990064336105 40.59960052...          22   \n",
      "2  MULTIPOLYGON (((-73.9717741096532 40.725821281...           1   \n",
      "3  MULTIPOLYGON (((-73.9118071006944 40.703434952...          32   \n",
      "4  MULTIPOLYGON (((-73.89680883223781 40.79580844...           7   \n",
      "5  MULTIPOLYGON (((-73.98633134976376 40.69105051...          15   \n",
      "6  MULTIPOLYGON (((-73.92129719686147 40.85428933...           9   \n",
      "7  MULTIPOLYGON (((-73.93311862793117 40.69579115...          16   \n",
      "8  MULTIPOLYGON (((-73.86706149472126 40.58208797...          18   \n",
      "9  MULTIPOLYGON (((-73.92044366203021 40.66562628...          23   \n",
      "\n",
      "      Shape_Leng    Shape_Area  \n",
      "0   86613.431251  1.048871e+08  \n",
      "1  271705.210827  3.855582e+08  \n",
      "2   28625.358551  3.516415e+07  \n",
      "3   37200.403801  5.203075e+07  \n",
      "4   65567.308665  9.225101e+07  \n",
      "5  153416.270604  1.961494e+08  \n",
      "6   46648.227687  8.344409e+07  \n",
      "7   35848.904594  4.676362e+07  \n",
      "8  121124.870704  1.751121e+08  \n",
      "9   40314.594723  4.739886e+07  \n"
     ]
    }
   ],
   "source": [
    "import pandas as pd\n",
    "import io\n",
    "import requests\n",
    "\n",
    "# Get the first ten rows from School Districts csv from the Internet\n",
    "getURL = \"https://data.cityofnewyork.us/api/views/bntt-wmh5/rows.csv\"\n",
    "s = requests.get(getURL).content\n",
    "schoolDistricts = pd.read_csv(getURL,sep=',', header = 0, nrows=10)\n",
    "\n",
    "print(schoolDistricts)"
   ]
  },
  {
   "cell_type": "code",
   "execution_count": 5,
   "id": "84834e67",
   "metadata": {},
   "outputs": [
    {
     "name": "stdout",
     "output_type": "stream",
     "text": [
      "Success! Data uploaded to table \"schooldistricts\" correctly\n"
     ]
    },
    {
     "data": {
      "text/plain": [
       "'schooldistricts'"
      ]
     },
     "execution_count": 5,
     "metadata": {},
     "output_type": "execute_result"
    }
   ],
   "source": [
    "from cartoframes import to_carto\n",
    "from cartoframes.auth import set_default_credentials\n",
    "\n",
    "# Pull in credentials from creds.json file in same directory\n",
    "set_default_credentials('creds.json')\n",
    "\n",
    "# Upload the school districts loaded in the previous cell to CARTO\n",
    "to_carto(schoolDistricts, \"schooldistricts\", if_exists='fail')"
   ]
  },
  {
   "cell_type": "code",
   "execution_count": null,
   "id": "424109bf",
   "metadata": {},
   "outputs": [],
   "source": []
  }
 ],
 "metadata": {
  "kernelspec": {
   "display_name": "Python 3 (ipykernel)",
   "language": "python",
   "name": "python3"
  },
  "language_info": {
   "codemirror_mode": {
    "name": "ipython",
    "version": 3
   },
   "file_extension": ".py",
   "mimetype": "text/x-python",
   "name": "python",
   "nbconvert_exporter": "python",
   "pygments_lexer": "ipython3",
   "version": "3.9.10"
  }
 },
 "nbformat": 4,
 "nbformat_minor": 5
}
