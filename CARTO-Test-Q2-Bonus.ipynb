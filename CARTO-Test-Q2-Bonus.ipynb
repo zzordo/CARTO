{
 "cells": [
  {
   "cell_type": "code",
   "execution_count": 23,
   "id": "b78a2c8e",
   "metadata": {
    "scrolled": true
   },
   "outputs": [
    {
     "name": "stdout",
     "output_type": "stream",
     "text": [
      "<pandas.io.parsers.readers.TextFileReader object at 0x1284144c0>\n"
     ]
    }
   ],
   "source": [
    "# This routine reads and uploads a CSV dataset into CARTO in chunks of 100 mb or so\n",
    "\n",
    "import pandas as pd\n",
    "import io\n",
    "import requests\n",
    "from cartoframes import to_carto\n",
    "from cartoframes.auth import set_default_credentials\n",
    "from pprint import pprint\n",
    "\n",
    "# Get the csv from the Internet\n",
    "getURL = \"https://data.cityofnewyork.us/api/views/bntt-wmh5/rows.csv\"\n",
    "s = requests.get(getURL).content\n",
    "\n",
    "# Set desired chunksize\n",
    "cs = 10\n",
    "\n",
    "# Get first ten School Districts from the csv\n",
    "schoolDistricts = pd.read_csv(io.StringIO(s.decode('utf-8')),chunksize=cs)\n",
    "\n",
    "print(schoolDistricts)"
   ]
  },
  {
   "cell_type": "code",
   "execution_count": 25,
   "id": "424109bf",
   "metadata": {},
   "outputs": [
    {
     "name": "stdout",
     "output_type": "stream",
     "text": [
      "Success! Data uploaded to table \"schooldistrictschunk_0\" correctly\n",
      "Success! Data uploaded to table \"schooldistrictschunk_1\" correctly\n",
      "Success! Data uploaded to table \"schooldistrictschunk_2\" correctly\n"
     ]
    }
   ],
   "source": [
    "# Pull in credentials from creds.json file in same directory\n",
    "set_default_credentials('creds.json')\n",
    "\n",
    "cycle = 0\n",
    "## Upload the school districts in chunks to CARTO\n",
    "for data in schoolDistricts:\n",
    "    filename = \"schooldistrictschunk_\"+str(cycle)\n",
    "    to_carto(data, filename)\n",
    "    cycle += 1"
   ]
  },
  {
   "cell_type": "code",
   "execution_count": null,
   "id": "84834e67",
   "metadata": {},
   "outputs": [],
   "source": [
    "\n"
   ]
  }
 ],
 "metadata": {
  "kernelspec": {
   "display_name": "Python 3 (ipykernel)",
   "language": "python",
   "name": "python3"
  },
  "language_info": {
   "codemirror_mode": {
    "name": "ipython",
    "version": 3
   },
   "file_extension": ".py",
   "mimetype": "text/x-python",
   "name": "python",
   "nbconvert_exporter": "python",
   "pygments_lexer": "ipython3",
   "version": "3.9.10"
  }
 },
 "nbformat": 4,
 "nbformat_minor": 5
}
