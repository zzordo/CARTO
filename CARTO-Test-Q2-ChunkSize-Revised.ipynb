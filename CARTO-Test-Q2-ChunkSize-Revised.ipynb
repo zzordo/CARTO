{
 "cells": [
  {
   "cell_type": "code",
   "execution_count": 7,
   "id": "b78a2c8e",
   "metadata": {
    "scrolled": true
   },
   "outputs": [
    {
     "data": {
      "text/html": [
       "<div>\n",
       "<style scoped>\n",
       "    .dataframe tbody tr th:only-of-type {\n",
       "        vertical-align: middle;\n",
       "    }\n",
       "\n",
       "    .dataframe tbody tr th {\n",
       "        vertical-align: top;\n",
       "    }\n",
       "\n",
       "    .dataframe thead th {\n",
       "        text-align: right;\n",
       "    }\n",
       "</style>\n",
       "<table border=\"1\" class=\"dataframe\">\n",
       "  <thead>\n",
       "    <tr style=\"text-align: right;\">\n",
       "      <th></th>\n",
       "      <th>the_geom</th>\n",
       "      <th>SchoolDist</th>\n",
       "      <th>Shape_Leng</th>\n",
       "      <th>Shape_Area</th>\n",
       "    </tr>\n",
       "  </thead>\n",
       "  <tbody>\n",
       "    <tr>\n",
       "      <th>0</th>\n",
       "      <td>MULTIPOLYGON (((-73.97906084845815 40.70594602...</td>\n",
       "      <td>13</td>\n",
       "      <td>86613.431251</td>\n",
       "      <td>1.048871e+08</td>\n",
       "    </tr>\n",
       "    <tr>\n",
       "      <th>1</th>\n",
       "      <td>MULTIPOLYGON (((-73.91990064336105 40.59960052...</td>\n",
       "      <td>22</td>\n",
       "      <td>271705.210827</td>\n",
       "      <td>3.855582e+08</td>\n",
       "    </tr>\n",
       "    <tr>\n",
       "      <th>2</th>\n",
       "      <td>MULTIPOLYGON (((-73.9717741096532 40.725821281...</td>\n",
       "      <td>1</td>\n",
       "      <td>28625.358551</td>\n",
       "      <td>3.516415e+07</td>\n",
       "    </tr>\n",
       "    <tr>\n",
       "      <th>3</th>\n",
       "      <td>MULTIPOLYGON (((-73.9118071006944 40.703434952...</td>\n",
       "      <td>32</td>\n",
       "      <td>37200.403801</td>\n",
       "      <td>5.203075e+07</td>\n",
       "    </tr>\n",
       "    <tr>\n",
       "      <th>4</th>\n",
       "      <td>MULTIPOLYGON (((-73.89680883223781 40.79580844...</td>\n",
       "      <td>7</td>\n",
       "      <td>65567.308665</td>\n",
       "      <td>9.225101e+07</td>\n",
       "    </tr>\n",
       "  </tbody>\n",
       "</table>\n",
       "</div>"
      ],
      "text/plain": [
       "                                            the_geom  SchoolDist  \\\n",
       "0  MULTIPOLYGON (((-73.97906084845815 40.70594602...          13   \n",
       "1  MULTIPOLYGON (((-73.91990064336105 40.59960052...          22   \n",
       "2  MULTIPOLYGON (((-73.9717741096532 40.725821281...           1   \n",
       "3  MULTIPOLYGON (((-73.9118071006944 40.703434952...          32   \n",
       "4  MULTIPOLYGON (((-73.89680883223781 40.79580844...           7   \n",
       "\n",
       "      Shape_Leng    Shape_Area  \n",
       "0   86613.431251  1.048871e+08  \n",
       "1  271705.210827  3.855582e+08  \n",
       "2   28625.358551  3.516415e+07  \n",
       "3   37200.403801  5.203075e+07  \n",
       "4   65567.308665  9.225101e+07  "
      ]
     },
     "execution_count": 7,
     "metadata": {},
     "output_type": "execute_result"
    }
   ],
   "source": [
    "# This routine reads and uploads a CSV dataset into CARTO in chunks of 100 mb or so\n",
    "\n",
    "import pandas as pd\n",
    "import io\n",
    "import requests\n",
    "from cartoframes import to_carto\n",
    "from cartoframes.auth import set_default_credentials\n",
    "from pprint import pprint\n",
    "\n",
    "# Get the csv from the Internet\n",
    "getURL = \"https://data.cityofnewyork.us/api/views/bntt-wmh5/rows.csv\"\n",
    "s = requests.get(getURL).content\n",
    "\n",
    "# Get the School Districts from the csv\n",
    "schoolDistricts = pd.read_csv(io.StringIO(s.decode('utf-8')))\n",
    "\n",
    "schoolDistricts.head()"
   ]
  },
  {
   "cell_type": "code",
   "execution_count": 11,
   "id": "424109bf",
   "metadata": {},
   "outputs": [
    {
     "name": "stdout",
     "output_type": "stream",
     "text": [
      "Success! Data uploaded to table \"schooldistricts100\" correctly\n"
     ]
    },
    {
     "data": {
      "text/plain": [
       "'schooldistricts100'"
      ]
     },
     "execution_count": 11,
     "metadata": {},
     "output_type": "execute_result"
    }
   ],
   "source": [
    "# Pull in credentials from creds.json file in same directory\n",
    "set_default_credentials('creds.json')\n",
    "\n",
    "byteSizeLimit = 100000000 # 100 mb\n",
    "\n",
    "to_carto(schoolDistricts, \"schoolDistricts100\", cartodbfy=True, log_enabled=True, retry_times=3, max_upload_size=byteSizeLimit, skip_quota_warning=False)"
   ]
  },
  {
   "cell_type": "code",
   "execution_count": null,
   "id": "3aa41b55-c1b4-4c10-8804-f3ec498a28b7",
   "metadata": {},
   "outputs": [],
   "source": []
  }
 ],
 "metadata": {
  "kernelspec": {
   "display_name": "Python 3 (ipykernel)",
   "language": "python",
   "name": "python3"
  },
  "language_info": {
   "codemirror_mode": {
    "name": "ipython",
    "version": 3
   },
   "file_extension": ".py",
   "mimetype": "text/x-python",
   "name": "python",
   "nbconvert_exporter": "python",
   "pygments_lexer": "ipython3",
   "version": "3.9.10"
  }
 },
 "nbformat": 4,
 "nbformat_minor": 5
}
